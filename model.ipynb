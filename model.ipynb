{
 "cells": [
  {
   "cell_type": "code",
   "execution_count": 2,
   "id": "fb117396-99f6-4d72-9012-389f0b2da5e5",
   "metadata": {
    "scrolled": true
   },
   "outputs": [
    {
     "data": {
      "application/vnd.jupyter.widget-view+json": {
       "model_id": "0077405098cc4d4db1b1379597681523",
       "version_major": 2,
       "version_minor": 0
      },
      "text/plain": [
       "  0%|          | 0/1 [00:00<?, ?it/s]"
      ]
     },
     "metadata": {},
     "output_type": "display_data"
    },
    {
     "name": "stdout",
     "output_type": "stream",
     "text": [
      "Epoch: 0\n",
      "------------------\n",
      "Looked at 320/15557...\n",
      "Looked at 3520/15557...\n",
      "Looked at 6720/15557...\n",
      "Looked at 9920/15557...\n",
      "Looked at 13120/15557...\n",
      "Train_Loss:2.5156004428863525 | Train_accuracy:26.557482129907804% | Test_accuracy:33.09235517568851%\n"
     ]
    }
   ],
   "source": [
    "import torch\n",
    "from torch import nn\n",
    "import matplotlib.pyplot as plt\n",
    "import matplotlib.image as mimg\n",
    "from tqdm.auto import tqdm\n",
    "import os\n",
    "device = 'cuda' if torch.cuda.is_available() else 'cpu'\n",
    "device\n",
    "\n",
    "from pathlib import Path\n",
    "train_dir=Path('dermnet/train/')\n",
    "test_dir=Path('dermnet/test')\n",
    "data_dir=Path('dermnet')\n",
    "train_dir,test_dir\n",
    "\n",
    "from torchvision.transforms import v2\n",
    "\n",
    "from PIL import Image\n",
    "\n",
    "data_transform=v2.Compose([\n",
    "  v2.Resize((256,256)),\n",
    "  v2.RandomCrop((256,256)),\n",
    "  v2.RandomHorizontalFlip(),\n",
    "  v2.ToImage(),\n",
    "  v2.ToDtype(torch.float32,scale=True)\n",
    "])\n",
    "\n",
    "from torchvision.datasets import ImageFolder\n",
    "from torch.utils.data import Dataset,DataLoader\n",
    "\n",
    "train_data=ImageFolder(train_dir,transform=data_transform,\n",
    "                       target_transform=None,\n",
    "                       )\n",
    "test_data=ImageFolder(test_dir,transform=data_transform)\n",
    "\n",
    "\n",
    "train_dataloader = DataLoader(train_data, batch_size=320,num_workers=os.cpu_count(), shuffle=True)\n",
    "test_dataloader = DataLoader(test_data, batch_size=320,num_workers=os.cpu_count(), shuffle=False)\n",
    "\n",
    "train_data,test_data,len(train_dataloader),len(test_dataloader)\n",
    "\n",
    "import torchvision.models as models\n",
    "from torchinfo import summary\n",
    "weights=models.MobileNet_V3_Large_Weights.DEFAULT\n",
    "model = models.mobilenet_v3_large(weights=weights).to(device)\n",
    "\n",
    "summary(model=model,\n",
    "input_size=( 1,3, 256, 256),\n",
    "col_names=['input_size', 'output_size', 'num_params','trainable'],\n",
    "col_width=20,\n",
    "row_settings=['var_names'])\n",
    "\n",
    "model.classifier=nn.Sequential(\n",
    "nn.Dropout(p=0.5,inplace=True),\n",
    "nn.Linear(in_features=960,out_features=640),\n",
    "nn.Dropout(p=0.2,inplace=True),\n",
    "nn.LeakyReLU(),\n",
    "nn.Linear(640,300),\n",
    "nn.Dropout(p=0.2,inplace=True),\n",
    "nn.Linear(300,len(train_data.classes)))\n",
    "for param in model.features.parameters():\n",
    "    param.requires_grad=False\n",
    "    \n",
    "summary(\n",
    "    model=model,\n",
    "    input_size=(1, 3, 256, 256),\n",
    "    col_names=['input_size', 'output_size', 'num_params', 'trainable'],\n",
    "    col_width=20,\n",
    "    row_settings=['var_names']\n",
    ")\n",
    "\n",
    "loss_fn=nn.CrossEntropyLoss()\n",
    "optimizer=torch.optim.Adam(model.parameters(),0.001)\n",
    "def acc(y_preds,y_true):\n",
    "    correct=(y_preds==y_true).sum().item()\n",
    "    \n",
    "    acc=correct*100/len(y_preds)\n",
    "    return acc\n",
    "\n",
    "epochs =1\n",
    "\n",
    "train_loss=[]\n",
    "test_loss=[]\n",
    "torch.manual_seed(42)\n",
    "for epoch in tqdm(range(epochs)):\n",
    "    model.train()\n",
    "\n",
    "\n",
    "    los=0\n",
    "    train_acc=0\n",
    "    test_acc=0\n",
    "    print(f'Epoch: {epoch}')\n",
    "    print(f'------------------')\n",
    "    for i,data in enumerate(train_dataloader):\n",
    "        \n",
    "        img,label=data[0],data[1]\n",
    "        img,label=img.to(device),label.to(device)\n",
    "\n",
    "        y_logits=model(img)\n",
    "        loss=loss_fn(y_logits,label.type(torch.long))\n",
    "        los+=loss\n",
    "        y_preds=torch.argmax(torch.softmax(y_logits,1),1)\n",
    "        train_acc+=acc(y_preds,label)\n",
    "        optimizer.zero_grad()\n",
    "        loss.backward()\n",
    "        optimizer.step()\n",
    "        model.eval()\n",
    "        if i%10==0:\n",
    "            if len(label)==320:\n",
    "                print(f'Looked at {(i+1)*len(label)}/{len(train_data)}...')\n",
    "            else:\n",
    "                print(f'Looked at {len(train_data)}/{len(train_data)}...')\n",
    "    train_acc/=len(train_dataloader)\n",
    "    los/=len(train_dataloader)\n",
    "    train_loss.append(los.detach().cpu)\n",
    "\n",
    "    for img,label in iter(test_dataloader):\n",
    "        img,label=img.to(device),label.to(device)\n",
    "        test_logits=model(img)\n",
    "        test_preds=torch.argmax(torch.softmax(test_logits,1),1)\n",
    "        test_acc+=acc(test_preds,label)\n",
    "    test_loss.append(loss_fn(test_logits,label.type(torch.long)).detach().cpu())\n",
    "    test_acc/=len(test_dataloader)\n",
    "    print(f'Train_Loss:{los} | Train_accuracy:{train_acc}% | Test_accuracy:{test_acc}%')"
   ]
  },
  {
   "cell_type": "code",
   "execution_count": 3,
   "id": "e829de13-226c-4a66-94ad-7b78fa3c591b",
   "metadata": {},
   "outputs": [],
   "source": [
    "torch.save(model, \"skin_disease.pt\")  "
   ]
  },
  {
   "cell_type": "code",
   "execution_count": 4,
   "id": "81dad0f6-9134-4675-9ed7-7d2bef23fad9",
   "metadata": {},
   "outputs": [],
   "source": [
    "model = torch.load(\"skin_disease.pt\", map_location=torch.device('cpu'))"
   ]
  },
  {
   "cell_type": "code",
   "execution_count": 5,
   "id": "e4f193fe-5919-412c-b1ad-c638b2edaaae",
   "metadata": {},
   "outputs": [],
   "source": [
    "class_names=train_data.classes"
   ]
  },
  {
   "cell_type": "code",
   "execution_count": 6,
   "id": "3d60eec7-6cc1-4aea-832a-4390554593dc",
   "metadata": {},
   "outputs": [],
   "source": [
    "class_names=['Type=Acne and Rosacea Photos \tSymptoms=Redness, pimples, blackheads, whiteheads, oily skin,Facial redness, flushing, pimples, bloodshot eyes\t Medications=Over-the-counter acne treatments, prescription medications, lifestyle changes,Topical medications, laser therapy, lifestyle changes',\n",
    "\n",
    " 'Type=Actinic Keratosis Basal Cell Carcinoma and other Malignant Lesions \tSymptoms=No info\tMedications=NO info',\n",
    "\n",
    " 'Type=Atopic Dermatitis Photos \tSymptoms=No info\tMedications=NO info',\n",
    "\n",
    " 'Type=Bullous Disease Photos \tSymptoms=No info\tMedications=NO info',\n",
    "\n",
    " 'Type=Cellulitis Impetigo and other Bacterial Infections\t Symptoms=Red, swollen, painful skin\t Medications=Antibiotics',\n",
    "\n",
    " 'Type=Eczema Photos \tSymptoms=Itchy, dry, red skin, scaly patches\t Medications=Moisturizers, topical corticosteroids, antihistamines',\n",
    "\n",
    " 'Type=Exanthems and Drug Eruptions \tSymptoms=No info\tMedications=NO info',\n",
    "\n",
    " 'Type=Hair Loss Photos Alopecia and other Hair Diseases \tSymptoms=Hair loss in round patches\t Medications=Corticosteroids, immunotherapy, minoxidil',\n",
    "\n",
    " 'Type=Herpes HPV and other STDs Photos \tSymptoms=Painful blisters\t Medications=Antiviral medications',\n",
    "\n",
    " 'Type=Light Diseases and Disorders of Pigmentation\t Symptoms=No info\tMedications=NO info',\n",
    "\n",
    " 'Type=Lupus and other Connective Tissue diseases \tSymptoms=No info\tMedications=NO info',\n",
    "\n",
    " 'Type=Melanoma Skin Cancer Nevi and Moles \tSymptoms=Abnormal moles, changes in existing moles, dark or uneven color\t Medications=Surgery, immunotherapy, chemotherapy, radiation therapy',\n",
    "\n",
    " 'Type=Nail Fungus and other Nail Disease \tSymptoms=No info\tMedications=NO info',\n",
    "\n",
    " 'Type=Poison Ivy Photos and other Contact Dermatitis \tSymptoms=No info\tMedications=NO info',\n",
    "\n",
    " 'Type=Psoriasis pictures Lichen Planus and related diseases\t Symptoms=Thick, scaly patches, red skin, itching\t Medications=Topical corticosteroids, light therapy, systemic medications',\n",
    "\n",
    " 'Type=Scabies Lyme Disease and other Infestations and Bites\t Symptoms=No info\tMedications=NO info',\n",
    "\n",
    " 'Type=Seborrheic Keratoses and other Benign Tumors \tSymptoms=Dandruff, oily scales, red skin\t Medications=Over-the-counter dandruff shampoos, prescription corticosteroids',\n",
    "\n",
    " 'Type=Systemic Disease \tSymptoms=No info\tMedications=NO info',\n",
    "\n",
    " 'Type=Tinea Ringworm Candidiasis and other Fungal Infections \tSymptoms=Itching, redness, scaling, blisters\t Medications=Antifungal creams, oral antifungals',\n",
    "\n",
    " 'Type=Urticaria Hives \t\tSymptoms=Itchy red welts\t Medications=Antihistamines, corticosteroids',\n",
    "\n",
    " 'Type=Vascular Tumors\t\tSymptoms=No info\tMedications=NO info ',\n",
    "\n",
    " 'Type=Vasculitis Photos \tSymptoms=No info\tMedications=NO info',\n",
    "\n",
    " 'Type=Warts Molluscum and other Viral Infections \tSymptoms=Small, raised growths on skin\t\t Medications=Over-the-counter wart removal products, freezing, prescription medications']"
   ]
  },
  {
   "cell_type": "code",
   "execution_count": 7,
   "id": "72fc33bb-be22-47a3-a6c6-34bb2b7ec5c9",
   "metadata": {},
   "outputs": [
    {
     "data": {
      "text/plain": [
       "['Type=Acne and Rosacea Photos \\tSymptoms=Redness, pimples, blackheads, whiteheads, oily skin,Facial redness, flushing, pimples, bloodshot eyes\\t Medications=Over-the-counter acne treatments, prescription medications, lifestyle changes,Topical medications, laser therapy, lifestyle changes',\n",
       " 'Type=Actinic Keratosis Basal Cell Carcinoma and other Malignant Lesions \\tSymptoms=No info\\tMedications=NO info',\n",
       " 'Type=Atopic Dermatitis Photos \\tSymptoms=No info\\tMedications=NO info',\n",
       " 'Type=Bullous Disease Photos \\tSymptoms=No info\\tMedications=NO info',\n",
       " 'Type=Cellulitis Impetigo and other Bacterial Infections\\t Symptoms=Red, swollen, painful skin\\t Medications=Antibiotics',\n",
       " 'Type=Eczema Photos \\tSymptoms=Itchy, dry, red skin, scaly patches\\t Medications=Moisturizers, topical corticosteroids, antihistamines',\n",
       " 'Type=Exanthems and Drug Eruptions \\tSymptoms=No info\\tMedications=NO info',\n",
       " 'Type=Hair Loss Photos Alopecia and other Hair Diseases \\tSymptoms=Hair loss in round patches\\t Medications=Corticosteroids, immunotherapy, minoxidil',\n",
       " 'Type=Herpes HPV and other STDs Photos \\tSymptoms=Painful blisters\\t Medications=Antiviral medications',\n",
       " 'Type=Light Diseases and Disorders of Pigmentation\\t Symptoms=No info\\tMedications=NO info',\n",
       " 'Type=Lupus and other Connective Tissue diseases \\tSymptoms=No info\\tMedications=NO info',\n",
       " 'Type=Melanoma Skin Cancer Nevi and Moles \\tSymptoms=Abnormal moles, changes in existing moles, dark or uneven color\\t Medications=Surgery, immunotherapy, chemotherapy, radiation therapy',\n",
       " 'Type=Nail Fungus and other Nail Disease \\tSymptoms=No info\\tMedications=NO info',\n",
       " 'Type=Poison Ivy Photos and other Contact Dermatitis \\tSymptoms=No info\\tMedications=NO info',\n",
       " 'Type=Psoriasis pictures Lichen Planus and related diseases\\t Symptoms=Thick, scaly patches, red skin, itching\\t Medications=Topical corticosteroids, light therapy, systemic medications',\n",
       " 'Type=Scabies Lyme Disease and other Infestations and Bites\\t Symptoms=No info\\tMedications=NO info',\n",
       " 'Type=Seborrheic Keratoses and other Benign Tumors \\tSymptoms=Dandruff, oily scales, red skin\\t Medications=Over-the-counter dandruff shampoos, prescription corticosteroids',\n",
       " 'Type=Systemic Disease \\tSymptoms=No info\\tMedications=NO info',\n",
       " 'Type=Tinea Ringworm Candidiasis and other Fungal Infections \\tSymptoms=Itching, redness, scaling, blisters\\t Medications=Antifungal creams, oral antifungals',\n",
       " 'Type=Urticaria Hives \\t\\tSymptoms=Itchy red welts\\t Medications=Antihistamines, corticosteroids',\n",
       " 'Type=Vascular Tumors\\t\\tSymptoms=No info\\tMedications=NO info ',\n",
       " 'Type=Vasculitis Photos \\tSymptoms=No info\\tMedications=NO info',\n",
       " 'Type=Warts Molluscum and other Viral Infections \\tSymptoms=Small, raised growths on skin\\t\\t Medications=Over-the-counter wart removal products, freezing, prescription medications']"
      ]
     },
     "execution_count": 7,
     "metadata": {},
     "output_type": "execute_result"
    }
   ],
   "source": [
    "class_names"
   ]
  },
  {
   "cell_type": "code",
   "execution_count": 8,
   "id": "7cc73a9f-3c2f-4c47-887d-ffb4af579c9d",
   "metadata": {},
   "outputs": [
    {
     "name": "stdout",
     "output_type": "stream",
     "text": [
      "Running on local URL:  http://127.0.0.1:7860\n",
      "Running on public URL: https://456431b4c4d0037b1a.gradio.live\n",
      "\n",
      "This share link expires in 72 hours. For free permanent hosting and GPU upgrades, run `gradio deploy` from Terminal to deploy to Spaces (https://huggingface.co/spaces)\n"
     ]
    },
    {
     "data": {
      "text/html": [
       "<div><iframe src=\"https://456431b4c4d0037b1a.gradio.live\" width=\"100%\" height=\"500\" allow=\"autoplay; camera; microphone; clipboard-read; clipboard-write;\" frameborder=\"0\" allowfullscreen></iframe></div>"
      ],
      "text/plain": [
       "<IPython.core.display.HTML object>"
      ]
     },
     "metadata": {},
     "output_type": "display_data"
    },
    {
     "data": {
      "text/plain": []
     },
     "execution_count": 8,
     "metadata": {},
     "output_type": "execute_result"
    }
   ],
   "source": [
    "import torch\n",
    "import torchvision.transforms as transforms\n",
    "import gradio as gr\n",
    "import numpy as np\n",
    "\n",
    "# Load the entire model (assuming it's saved as \"skin_disease.pt\")\n",
    "model = torch.load(\"skin_disease.pt\", map_location=torch.device('cpu'))  # Adjust device if needed\n",
    "\n",
    "def classify_image(image):\n",
    "    transform = v2.Compose([\n",
    "      v2.Resize(256), v2.ToImage(),\n",
    "      v2.ToDtype(torch.float32,scale=True)\n",
    "    ])\n",
    "    image = transform(image)\n",
    "    image = image.unsqueeze(0)\n",
    "    with torch.inference_mode():\n",
    "         pred_probs = torch.softmax(model(img), dim=1)\n",
    "    pred_labels_and_probs = {class_names[i]: float(pred_probs[0][i]) for i in range(len(class_names))}\n",
    "    \n",
    "    return pred_labels_and_probs\n",
    "\n",
    "# Create the Gradio interface\n",
    "interface = gr.Interface(classify_image, \"image\", \"label\")\n",
    "\n",
    "# Launch the interface\n",
    "interface.launch(share=True)\n"
   ]
  }
 ],
 "metadata": {
  "kernelspec": {
   "display_name": "Python 3 (ipykernel)",
   "language": "python",
   "name": "python3"
  },
  "language_info": {
   "codemirror_mode": {
    "name": "ipython",
    "version": 3
   },
   "file_extension": ".py",
   "mimetype": "text/x-python",
   "name": "python",
   "nbconvert_exporter": "python",
   "pygments_lexer": "ipython3",
   "version": "3.11.4"
  }
 },
 "nbformat": 4,
 "nbformat_minor": 5
}
